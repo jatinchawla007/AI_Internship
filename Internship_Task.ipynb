{
  "nbformat": 4,
  "nbformat_minor": 0,
  "metadata": {
    "colab": {
      "provenance": [],
      "gpuType": "T4"
    },
    "kernelspec": {
      "name": "python3",
      "display_name": "Python 3"
    },
    "language_info": {
      "name": "python"
    },
    "accelerator": "GPU"
  },
  "cells": [
    {
      "cell_type": "code",
      "execution_count": null,
      "metadata": {
        "id": "54j_5bIBKoGF"
      },
      "outputs": [],
      "source": [
        "!pip install opencv-python"
      ]
    },
    {
      "cell_type": "code",
      "source": [
        "!pip install face-recognition"
      ],
      "metadata": {
        "id": "RfW62Oh-Ksmp"
      },
      "execution_count": null,
      "outputs": []
    },
    {
      "cell_type": "code",
      "source": [
        "!pip install unrar\n",
        "!unrar x \"/content/videos.rar\""
      ],
      "metadata": {
        "id": "OkYbDiruR2Ct"
      },
      "execution_count": null,
      "outputs": []
    },
    {
      "cell_type": "code",
      "source": [
        "import cv2\n",
        "import face_recognition\n",
        "import os\n",
        "\n",
        "def extract_unique_faces(video_path, output_dir):\n",
        "    # Create the output directory if it doesn't exist\n",
        "    os.makedirs(output_dir, exist_ok=True)\n",
        "\n",
        "    # Load the video\n",
        "    video_capture = cv2.VideoCapture(video_path)\n",
        "    known_face_encodings = []\n",
        "    frame_count = 0\n",
        "    face_count = 0\n",
        "\n",
        "    while True:\n",
        "        # Read a frame from the video\n",
        "        ret, frame = video_capture.read()\n",
        "        if not ret:\n",
        "            break\n",
        "\n",
        "        frame_count += 1\n",
        "        # Process every 10th frame to reduce computational load\n",
        "        if frame_count % 10 != 0:\n",
        "            continue\n",
        "\n",
        "        # Convert the frame from BGR (OpenCV format) to RGB (face_recognition format)\n",
        "        rgb_frame = cv2.cvtColor(frame, cv2.COLOR_BGR2RGB)\n",
        "\n",
        "        # Find all face locations and encodings in the frame\n",
        "        face_locations = face_recognition.face_locations(rgb_frame)\n",
        "        face_encodings = face_recognition.face_encodings(rgb_frame, face_locations)\n",
        "\n",
        "        for face_encoding, face_location in zip(face_encodings, face_locations):\n",
        "            # Check if this face is already known\n",
        "            matches = face_recognition.compare_faces(known_face_encodings, face_encoding, tolerance=0.6)\n",
        "\n",
        "            if not any(matches):\n",
        "                # Save the new face encoding\n",
        "                known_face_encodings.append(face_encoding)\n",
        "                face_count += 1\n",
        "\n",
        "                # Extract the face region\n",
        "                top, right, bottom, left = face_location\n",
        "                face_image = frame[top:bottom, left:right]\n",
        "\n",
        "                # Save the face image as a .jpg file\n",
        "                face_file_name = os.path.join(output_dir, f\"face_{face_count}.jpg\")\n",
        "                cv2.imwrite(face_file_name, face_image)\n",
        "                print(f\"Saved: {face_file_name}\")\n",
        "\n",
        "    # Release the video capture object\n",
        "    video_capture.release()\n",
        "    print(f\"Face extraction completed for {video_path}.\")\n",
        "\n",
        "def process_all_videos(input_folder, output_folder, video_count):\n",
        "    for i in range(1, video_count + 1):\n",
        "        video_path = os.path.join(input_folder, f\"{i}.mp4\")  # Assuming videos are named 1.mp4, 2.mp4, etc.\n",
        "        video_output_dir = os.path.join(output_folder, str(i))  # Subfolder for each video\n",
        "        print(f\"Processing video {video_path}...\")\n",
        "        extract_unique_faces(video_path, video_output_dir)\n",
        "\n",
        "# Example usage\n",
        "input_folder = \"/content/videos\"      # Folder containing the videos named 1.mp4, 2.mp4, ...\n",
        "output_folder = \"output_faces\"     # Base folder for output face captures\n",
        "video_count = 259                   # Total number of videos\n",
        "\n",
        "process_all_videos(input_folder, output_folder, video_count)\n"
      ],
      "metadata": {
        "id": "6ew-PMnZK9Yu"
      },
      "execution_count": null,
      "outputs": []
    },
    {
      "cell_type": "code",
      "source": [
        "\n",
        "import shutil\n",
        "import os\n",
        "\n",
        "def zip_folder(folder_path, output_filename):\n",
        "    \"\"\"Zips a folder and its contents.\"\"\"\n",
        "    try:\n",
        "        shutil.make_archive(output_filename, 'zip', folder_path)\n",
        "        print(f\"Successfully zipped '{folder_path}' to '{output_filename}.zip'\")\n",
        "    except FileNotFoundError:\n",
        "        print(f\"Error: Folder '{folder_path}' not found.\")\n",
        "    except Exception as e:\n",
        "        print(f\"An error occurred: {e}\")\n",
        "\n",
        "\n",
        "# Example usage (assuming 'output_faces' is the folder to zip)\n",
        "zip_folder(\"output_faces\", \"output_faces_zipped\")"
      ],
      "metadata": {
        "id": "60QGWErrR0wt"
      },
      "execution_count": null,
      "outputs": []
    },
    {
      "cell_type": "code",
      "source": [
        "import face_recognition\n",
        "import os\n",
        "\n",
        "def deduplicate_faces(base_dir):\n",
        "    \"\"\"\n",
        "    Deduplicates faces across multiple video subfolders.\n",
        "\n",
        "    Args:\n",
        "        base_dir (str): Directory containing subfolders with face images.\n",
        "\n",
        "    Returns:\n",
        "        dict: Mapping of Influencer ID to associated face image paths.\n",
        "    \"\"\"\n",
        "    known_encodings = []\n",
        "    influencer_mapping = {}\n",
        "\n",
        "    influencer_counter = 0\n",
        "\n",
        "    for subfolder in sorted(os.listdir(base_dir), key=lambda x: int(x)):\n",
        "        subfolder_path = os.path.join(base_dir, subfolder)\n",
        "        if not os.path.isdir(subfolder_path):\n",
        "            continue\n",
        "\n",
        "        for image_file in os.listdir(subfolder_path):\n",
        "            image_path = os.path.join(subfolder_path, image_file)\n",
        "\n",
        "            # Load face image and compute encoding\n",
        "            image = face_recognition.load_image_file(image_path)\n",
        "            encodings = face_recognition.face_encodings(image)\n",
        "\n",
        "            if len(encodings) > 0:\n",
        "                encoding = encodings[0]\n",
        "\n",
        "                # Check if the face matches any known encoding\n",
        "                matches = face_recognition.compare_faces(known_encodings, encoding, tolerance=0.6)\n",
        "                if True in matches:\n",
        "                    # Get the existing influencer ID\n",
        "                    influencer_id = matches.index(True)\n",
        "                else:\n",
        "                    # Assign a new Influencer ID\n",
        "                    influencer_id = influencer_counter\n",
        "                    known_encodings.append(encoding)\n",
        "                    influencer_counter += 1\n",
        "\n",
        "                # Map influencer to their image\n",
        "                if influencer_id not in influencer_mapping:\n",
        "                    influencer_mapping[influencer_id] = []\n",
        "                influencer_mapping[influencer_id].append(image_path)\n",
        "\n",
        "    return influencer_mapping\n"
      ],
      "metadata": {
        "id": "rCLmQRDHLmol"
      },
      "execution_count": null,
      "outputs": []
    },
    {
      "cell_type": "code",
      "source": [
        "def map_influencers_to_videos(influencer_mapping):\n",
        "    \"\"\"\n",
        "    Maps influencers to their corresponding videos based on the face images.\n",
        "\n",
        "    Args:\n",
        "        influencer_mapping (dict): Mapping of Influencer ID to face image paths.\n",
        "\n",
        "    Returns:\n",
        "        dict: Mapping of Influencer ID to video IDs.\n",
        "    \"\"\"\n",
        "    influencer_to_videos = {}\n",
        "    for influencer_id, image_paths in influencer_mapping.items():\n",
        "        video_ids = {os.path.basename(os.path.dirname(path)) for path in image_paths}\n",
        "        influencer_to_videos[influencer_id] = list(video_ids)\n",
        "    return influencer_to_videos\n"
      ],
      "metadata": {
        "id": "U4-T0WRkFOkr"
      },
      "execution_count": null,
      "outputs": []
    },
    {
      "cell_type": "code",
      "source": [
        "import pandas as pd\n",
        "\n",
        "def calculate_average_performance(influencer_to_videos, performance_data):\n",
        "    \"\"\"\n",
        "    Calculates the average performance for each influencer.\n",
        "\n",
        "    Args:\n",
        "        influencer_to_videos (dict): Mapping of Influencer ID to video IDs.\n",
        "        performance_data (pd.DataFrame): DataFrame containing Video IDs and performance.\n",
        "\n",
        "    Returns:\n",
        "        pd.DataFrame: DataFrame with Influencer ID and their average performance.\n",
        "    \"\"\"\n",
        "    results = []\n",
        "    for influencer_id, video_ids in influencer_to_videos.items():\n",
        "        # Filter performance data for videos associated with this influencer\n",
        "        video_performances = performance_data[\n",
        "            performance_data['Video ID'].isin(video_ids)\n",
        "        ]['Performance']\n",
        "\n",
        "        # Calculate average performance\n",
        "        avg_performance = video_performances.mean()\n",
        "        results.append({'Influencer ID': influencer_id, 'Average Performance': avg_performance})\n",
        "\n",
        "    return pd.DataFrame(results)\n"
      ],
      "metadata": {
        "id": "4PYC0HLqFmak"
      },
      "execution_count": null,
      "outputs": []
    },
    {
      "cell_type": "code",
      "source": [
        "from PIL import Image\n",
        "\n",
        "def save_influencer_faces_with_performance(influencer_mapping, performance_summary, output_dir):\n",
        "    \"\"\"\n",
        "    Save influencer faces with their average performance in the output directory.\n",
        "\n",
        "    Args:\n",
        "        influencer_mapping (dict): Mapping of Influencer ID to face image paths.\n",
        "        performance_summary (pd.DataFrame): DataFrame with Influencer ID and average performance.\n",
        "        output_dir (str): Directory to save the results.\n",
        "    \"\"\"\n",
        "    os.makedirs(output_dir, exist_ok=True)\n",
        "\n",
        "    for _, row in performance_summary.iterrows():\n",
        "        influencer_id = row['Influencer ID']\n",
        "        avg_performance = row['Average Performance']\n",
        "\n",
        "        # Use the first face image of the influencer\n",
        "        image_path = influencer_mapping[influencer_id][0]\n",
        "        img = Image.open(image_path)\n",
        "\n",
        "        # Save with average performance in filename\n",
        "        output_path = os.path.join(output_dir, f\"{influencer_id}_avg_{avg_performance:.2f}.jpg\")\n",
        "        img.save(output_path)\n",
        "        print(f\"Saved: {output_path}\")\n"
      ],
      "metadata": {
        "id": "uO5XDHT1Fvxa"
      },
      "execution_count": null,
      "outputs": []
    }
  ]
}